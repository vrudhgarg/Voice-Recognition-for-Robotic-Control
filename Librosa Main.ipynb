{
 "cells": [
  {
   "cell_type": "code",
   "execution_count": 1,
   "id": "incoming-clear",
   "metadata": {},
   "outputs": [],
   "source": [
    "import numpy as np\n",
    "from scipy.io import wavfile\n",
    "import matplotlib.pyplot as plt\n",
    "import librosa\n",
    "import IPython.display as ipd"
   ]
  },
  {
   "cell_type": "code",
   "execution_count": 7,
   "id": "communist-perry",
   "metadata": {},
   "outputs": [],
   "source": [
    "locations = [('up', 3723, 0), ('down', 3917, 1), ('stop', 3872, 2), ('follow', 1579, 3), ('forward', 1557, 4), ('go', 3880, 5), ('left', 3801, 6), ('off', 3745, 7), ('on', 3845, 8), ('right', 3778, 9), ('backward', 1664, 10)]\n",
    "features = []\n",
    "sr = 16000\n",
    "for com in locations:\n",
    "    for files in range(com[1]):\n",
    "        signal, s = librosa.load('F:\\\\SNU\\\\SEM 8\\\\Final Project\\\\Dataset\\\\speech_commands_v0.02\\\\' + com[0] +'\\\\1 ('+ str(files+1) + ').wav', sr = 16000)\n",
    "        if(signal.shape[0] >= sr):\n",
    "            signal = signal[:sr]\n",
    "        else:\n",
    "            continue\n",
    "            \n",
    "        mfcc = librosa.feature.mfcc(signal, sr = 16000, n_mfcc = 13, hop_length = 160, n_fft = 400)\n",
    "        mfcc = mfcc.T\n",
    "        features.append(np.hstack((mfcc.ravel(), com[2])))\n",
    "\n",
    "features = np.asarray(features)\n",
    "np.savetxt('dataset.csv', features, delimiter = ',')        "
   ]
  },
  {
   "cell_type": "code",
   "execution_count": null,
   "id": "cellular-caution",
   "metadata": {},
   "outputs": [],
   "source": []
  }
 ],
 "metadata": {
  "kernelspec": {
   "display_name": "Python 3",
   "language": "python",
   "name": "python3"
  },
  "language_info": {
   "codemirror_mode": {
    "name": "ipython",
    "version": 3
   },
   "file_extension": ".py",
   "mimetype": "text/x-python",
   "name": "python",
   "nbconvert_exporter": "python",
   "pygments_lexer": "ipython3",
   "version": "3.8.8"
  }
 },
 "nbformat": 4,
 "nbformat_minor": 5
}
